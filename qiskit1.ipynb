{
 "cells": [
  {
   "cell_type": "code",
   "execution_count": 1,
   "metadata": {},
   "outputs": [
    {
     "data": {
      "text/html": [
       "<pre style=\"word-wrap: normal;white-space: pre;background: #fff0;line-height: 1.1;font-family: &quot;Courier New&quot;,Courier,monospace\">        ┌───┐     ┌─┐   \n",
       "q_0: |0>┤ X ├──■──┤M├───\n",
       "        └───┘┌─┴─┐└╥┘┌─┐\n",
       "q_1: |0>─────┤ X ├─╫─┤M├\n",
       "             └───┘ ║ └╥┘\n",
       " c_0: 0 ═══════════╩══╬═\n",
       "                      ║ \n",
       " c_1: 0 ══════════════╩═\n",
       "                        </pre>"
      ],
      "text/plain": [
       "<qiskit.visualization.text.TextDrawing at 0x2ccdfd58198>"
      ]
     },
     "execution_count": 1,
     "metadata": {},
     "output_type": "execute_result"
    }
   ],
   "source": [
    "import qiskit as q\n",
    "%matplotlib inline\n",
    "\n",
    "circuit = q.QuantumCircuit(2, 2) # 2 qubits, 2 classical bits\n",
    "\n",
    "# apply not gate to qubit 0 to make its initial value of 0 a 1\n",
    "# currently 0, 0\n",
    "circuit.x(0)\n",
    "# 1, 0\n",
    "\n",
    "# cnot, controlled not. flips 2nd qubit value iff first qubit is a 1\n",
    "# cnot can be used to entangle \n",
    "circuit.cx(0, 1)\n",
    "# 1, 1\n",
    "\n",
    "circuit.measure([0, 1], [0, 1])\n",
    "\n",
    "circuit.draw()"
   ]
  },
  {
   "cell_type": "code",
   "execution_count": 4,
   "metadata": {},
   "outputs": [],
   "source": [
    "from qiskit import IBMQ\n",
    "\n",
    "IBMQ.save_account(open('token.txt', 'r').read(), overwrite=True)"
   ]
  },
  {
   "cell_type": "code",
   "execution_count": 5,
   "metadata": {},
   "outputs": [
    {
     "name": "stderr",
     "output_type": "stream",
     "text": [
      "C:\\ProgramData\\Anaconda3\\lib\\site-packages\\qiskit\\providers\\models\\backendconfiguration.py:337: UserWarning: `dt` and `dtm` now have units of seconds(s) rather than nanoseconds(ns).\n",
      "  warnings.warn('`dt` and `dtm` now have units of seconds(s) rather '\n"
     ]
    },
    {
     "data": {
      "text/plain": [
       "<AccountProvider for IBMQ(hub='ibm-q', group='open', project='main')>"
      ]
     },
     "execution_count": 5,
     "metadata": {},
     "output_type": "execute_result"
    }
   ],
   "source": [
    "IBMQ.load_account()"
   ]
  },
  {
   "cell_type": "code",
   "execution_count": 18,
   "metadata": {},
   "outputs": [
    {
     "name": "stdout",
     "output_type": "stream",
     "text": [
      "retrieving backends (simulators and quantum)...\n",
      "\n",
      "available simulator backends:\n",
      "ibmq_qasm_simulator | queue:0\n",
      "\n",
      "available quantum backends:\n",
      "ibmq_16_melbourne | qubits:15 queue:18\n",
      "ibmq_ourense | qubits:5 queue:0\n",
      "ibmq_burlington | qubits:5 queue:1\n",
      "ibmqx2 | qubits:5 queue:2\n",
      "ibmq_essex | qubits:5 queue:4\n",
      "ibmq_vigo | qubits:5 queue:5\n",
      "ibmq_london | qubits:5 queue:2000\n",
      "ibmq_armonk | qubits:1 queue:0\n"
     ]
    }
   ],
   "source": [
    "# retrieves available backends and lists them in a sorted order\n",
    "provider = IBMQ.get_provider('ibm-q')\n",
    "\n",
    "print('retrieving backends (simulators and quantum)...')\n",
    "# sort simulators and quantum computers by shortest queues\n",
    "quantum_backends = {}\n",
    "simulators = {}\n",
    "for backend in provider.backends():\n",
    "    if(backend.status().operational):\n",
    "        if('simulat' in backend.name()):\n",
    "            simulators[backend.name()] = backend.status().pending_jobs\n",
    "        else:\n",
    "            try:\n",
    "                quantum_backends[backend.name()] = (len(backend.properties().qubits), backend.status().pending_jobs)\n",
    "            except:\n",
    "                print('unexpected error in searching for available quantum backends')\n",
    "# sort simulators by shortest queues\n",
    "sorted_simulators = sorted(simulators, key=simulators.get)\n",
    "# sort quantum backends by greatest qubits, then shortest queues\n",
    "sorted_quantum_backends = sorted(quantum_backends.items(), key=lambda element: (-element[1][0], element[1][1]))\n",
    "\n",
    "# output\n",
    "print()\n",
    "print('available simulator backends:')\n",
    "for sim in sorted_simulators:\n",
    "    print(f'{sim} | queue:{simulators[sim]}')\n",
    "print()\n",
    "print('available quantum backends:')\n",
    "for qb in sorted_quantum_backends:\n",
    "    print(f'{qb[0]} | qubits:{qb[1][0]} queue:{qb[1][1]}')"
   ]
  },
  {
   "cell_type": "code",
   "execution_count": 10,
   "metadata": {},
   "outputs": [
    {
     "name": "stdout",
     "output_type": "stream",
     "text": [
      "Job Status: job has successfully run\n"
     ]
    }
   ],
   "source": [
    "from qiskit.tools.monitor import job_monitor\n",
    "\n",
    "backend = provider.get_backend('ibmq_burlington')\n",
    "job = q.execute(circuit, backend=backend, shots=500)\n",
    "job_monitor(job)"
   ]
  },
  {
   "cell_type": "code",
   "execution_count": null,
   "metadata": {},
   "outputs": [],
   "source": [
    "(1, 0), (5, 1), (5, 1), (5, 1), (5, 144)"
   ]
  }
 ],
 "metadata": {
  "kernelspec": {
   "display_name": "Python 3",
   "language": "python",
   "name": "python3"
  },
  "language_info": {
   "codemirror_mode": {
    "name": "ipython",
    "version": 3
   },
   "file_extension": ".py",
   "mimetype": "text/x-python",
   "name": "python",
   "nbconvert_exporter": "python",
   "pygments_lexer": "ipython3",
   "version": "3.7.3"
  }
 },
 "nbformat": 4,
 "nbformat_minor": 4
}
